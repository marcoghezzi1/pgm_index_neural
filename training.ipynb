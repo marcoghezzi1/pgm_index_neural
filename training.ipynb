{
 "cells": [
  {
   "cell_type": "code",
   "execution_count": 1,
   "metadata": {},
   "outputs": [],
   "source": [
    "from modello import pgm_index\n",
    "import pandas as pd\n",
    "import numpy as np\n",
    "import tensorflow as tf\n",
    "from keras.optimizers import Nadam\n",
    "from keras.optimizers import Adam\n",
    "import datetime"
   ]
  },
  {
   "cell_type": "code",
   "execution_count": 2,
   "metadata": {},
   "outputs": [],
   "source": [
    "dataset = 'datipisa/segments_wiki_ts_1M_uint64.csv'\n",
    "with open(dataset) as file:\n",
    "    indice = pd.read_csv(file, header=2)\n",
    "x_train = np.fromfile(\"datipisa/wiki_ts_1M_uint64\", dtype=np.uint64)\n",
    "\n",
    "x_train = x_train.reshape(len(x_train), 1)"
   ]
  },
  {
   "cell_type": "code",
   "execution_count": 3,
   "metadata": {},
   "outputs": [],
   "source": [
    "index = [0]\n",
    "for i in range(1, len(x_train)):\n",
    "    if x_train[i] == x_train[i - 1]:\n",
    "        index.append(index[i-1])\n",
    "    else:\n",
    "        index.append(i)"
   ]
  },
  {
   "cell_type": "code",
   "execution_count": 4,
   "metadata": {},
   "outputs": [],
   "source": [
    "init = indice['key'].to_numpy().reshape(1, len(indice))\n",
    "slope = indice['slope'].to_numpy().reshape(1, len(indice))\n",
    "intercept = indice['intercept'].to_numpy().reshape(1, len(indice))\n",
    "neuroni = len(indice)\n",
    "pgm = pgm_index(neuroni, init, slope, intercept, False)\n",
    "\n",
    "y = pgm.predict(x_train)"
   ]
  },
  {
   "cell_type": "code",
   "execution_count": 5,
   "metadata": {},
   "outputs": [],
   "source": [
    "err = []\n",
    "for i in range(len(x_train)):\n",
    "    diff = abs(y[i, 0] - index[i])\n",
    "    err.append(diff)\n",
    "err_max_init = np.amax(err)\n",
    "err_medio_init = np.average(err)"
   ]
  },
  {
   "cell_type": "code",
   "execution_count": 6,
   "metadata": {},
   "outputs": [],
   "source": [
    "pgm = pgm_index(neuroni, init, slope, intercept, True)"
   ]
  },
  {
   "cell_type": "code",
   "execution_count": null,
   "metadata": {},
   "outputs": [],
   "source": [
    "lr = 1e-5\n",
    "opt = Adam(learning_rate=lr)\n",
    "opt_name = 'Adam'\n",
    "loss_name = 'mean_absolute_error'\n",
    "pgm.compile(loss=loss_name, optimizer=opt)\n",
    "y_train = np.array(index).reshape(len(x_train), 1)\n",
    "batch = 100\n",
    "epoche = 3\n",
    "history = pgm.fit(x_train, y_train, batch_size=batch, epochs=epoche, verbose=0)"
   ]
  },
  {
   "cell_type": "code",
   "execution_count": 4,
   "metadata": {},
   "outputs": [
    {
     "name": "stdout",
     "output_type": "stream",
     "text": [
      "logs/model/lr_1e-05batch_100epochs_1000\n"
     ]
    }
   ],
   "source": [
    "log_model = 'logs/model/lr_'+str(lr)+'batch_'+str(batch)+'_'+'epochs_'+str(epoche)\n",
    "pgm.save(log_model)"
   ]
  },
  {
   "cell_type": "code",
   "execution_count": null,
   "metadata": {},
   "outputs": [],
   "source": [
    "y = pgm.predict(x_train)\n",
    "err = []\n",
    "for i in range(len(x_train)):\n",
    "    diff = abs(y[i, 0] - index[i])\n",
    "    err.append(diff)\n",
    "err_max= np.amax(err)\n",
    "err_medio= np.average(err)"
   ]
  },
  {
   "cell_type": "code",
   "execution_count": null,
   "metadata": {},
   "outputs": [],
   "source": [
    "df = pd.read_csv(r'results_training.csv')\n",
    "df = df.append({'dataset': dataset, 'err medio iniziale': err_medio_init, 'loss': loss_name,\n",
    "                'optimizer': opt_name, 'lr': lr, 'batch size': batch,\n",
    "                'epochs': epoche, 'err medio finale': err_medio, 'errore massimo': err_max}, ignore_index=True)\n",
    "df.to_csv('results_training.csv', index=False)"
   ]
  },
  {
   "cell_type": "code",
   "execution_count": null,
   "metadata": {},
   "outputs": [],
   "source": [
    "import matplotlib.pyplot as plt\n",
    "plt.plot(history.history['loss'], label='MAE')\n",
    "plt.title('MAE')\n",
    "plt.ylabel('MAE value')\n",
    "plt.xlabel('No. epoch')\n",
    "plt.legend(loc=\"upper left\")\n",
    "log_img = 'logs/plot/' + datetime.datetime.now().strftime(\"%Y%m%d-%H%M%S\") + '.eps'\n",
    "plt.savefig(log_img, format='eps')"
   ]
  }
 ],
 "metadata": {
  "kernelspec": {
   "display_name": "Python 3",
   "language": "python",
   "name": "python3"
  },
  "language_info": {
   "codemirror_mode": {
    "name": "ipython",
    "version": 3
   },
   "file_extension": ".py",
   "mimetype": "text/x-python",
   "name": "python",
   "nbconvert_exporter": "python",
   "pygments_lexer": "ipython3",
   "version": "3.7.9"
  }
 },
 "nbformat": 4,
 "nbformat_minor": 4
}