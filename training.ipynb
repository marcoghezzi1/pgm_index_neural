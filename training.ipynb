{
 "cells": [
  {
   "cell_type": "code",
   "execution_count": 1,
   "metadata": {
    "pycharm": {
     "name": "#%%\n"
    }
   },
   "outputs": [],
   "source": [
    "from modello import pgm_index\n",
    "import pandas as pd\n",
    "import numpy as np\n",
    "import tensorflow as tf\n",
    "from keras.optimizers import Adam\n",
    "import datetime"
   ]
  },
  {
   "cell_type": "code",
   "execution_count": 2,
   "metadata": {},
   "outputs": [],
   "source": [
    "%load_ext tensorboard"
   ]
  },
  {
   "cell_type": "code",
   "execution_count": 3,
   "metadata": {
    "pycharm": {
     "name": "#%%\n"
    }
   },
   "outputs": [],
   "source": [
    "with open('datipisa/segments_wiki_ts_1M_uint64.csv') as file:\n",
    "    indice = pd.read_csv(file, header=2)\n",
    "x_train = np.fromfile(\"datipisa/wiki_ts_1M_uint64\", dtype=np.uint64)\n",
    "\n",
    "x_train = x_train.reshape(len(x_train), 1)"
   ]
  },
  {
   "cell_type": "code",
   "execution_count": 4,
   "metadata": {
    "pycharm": {
     "name": "#%%\n"
    }
   },
   "outputs": [],
   "source": [
    "index = [0]\n",
    "for i in range(1, len(x_train)):\n",
    "    if x_train[i] == x_train[i - 1]:\n",
    "        index.append(index[i-1])\n",
    "    else:\n",
    "        index.append(i)"
   ]
  },
  {
   "cell_type": "code",
   "execution_count": 5,
   "metadata": {
    "pycharm": {
     "name": "#%%\n"
    }
   },
   "outputs": [],
   "source": [
    "init = indice['key'].to_numpy().reshape(1, len(indice))\n",
    "slope = indice['slope'].to_numpy().reshape(1, len(indice))\n",
    "intercept = indice['intercept'].to_numpy().reshape(1, len(indice))\n",
    "neuroni = len(indice)\n",
    "pgm = pgm_index(neuroni, init, slope, intercept, True)"
   ]
  },
  {
   "cell_type": "code",
   "execution_count": 6,
   "metadata": {},
   "outputs": [],
   "source": [
    "opt = Adam(lr=0.000001)"
   ]
  },
  {
   "cell_type": "code",
   "execution_count": 7,
   "metadata": {
    "pycharm": {
     "name": "#%%\n"
    }
   },
   "outputs": [],
   "source": [
    "pgm.compile(loss='mean_absolute_error', optimizer=opt)"
   ]
  },
  {
   "cell_type": "code",
   "execution_count": 8,
   "metadata": {
    "pycharm": {
     "name": "#%%\n"
    }
   },
   "outputs": [],
   "source": [
    "y_train = np.array(index).reshape(len(x_train), 1)"
   ]
  },
  {
   "cell_type": "code",
   "execution_count": 9,
   "metadata": {
    "pycharm": {
     "name": "#%%\n"
    }
   },
   "outputs": [
    {
     "name": "stdout",
     "output_type": "stream",
     "text": [
      "WARNING:tensorflow:Model failed to serialize as JSON. Ignoring... Layer myCustom has arguments in `__init__` and therefore must override `get_config`.\n",
      "Epoch 1/10\n",
      "20000/20000 [==============================] - 62s 3ms/step - loss: 27.5712\n",
      "Epoch 2/10\n",
      "20000/20000 [==============================] - 62s 3ms/step - loss: 26.9811\n",
      "Epoch 3/10\n",
      "20000/20000 [==============================] - 61s 3ms/step - loss: 26.9026\n",
      "Epoch 4/10\n",
      "20000/20000 [==============================] - 62s 3ms/step - loss: 26.8760\n",
      "Epoch 5/10\n",
      "20000/20000 [==============================] - 62s 3ms/step - loss: 26.8614\n",
      "Epoch 6/10\n",
      "20000/20000 [==============================] - 64s 3ms/step - loss: 26.8537\n",
      "Epoch 7/10\n",
      "20000/20000 [==============================] - 64s 3ms/step - loss: 26.8460\n",
      "Epoch 8/10\n",
      "20000/20000 [==============================] - 62s 3ms/step - loss: 26.8421\n",
      "Epoch 9/10\n",
      "20000/20000 [==============================] - 61s 3ms/step - loss: 26.8387\n",
      "Epoch 10/10\n",
      "20000/20000 [==============================] - 65s 3ms/step - loss: 26.8368\n"
     ]
    },
    {
     "data": {
      "text/plain": [
       "<tensorflow.python.keras.callbacks.History at 0x7fc5ef9aa910>"
      ]
     },
     "execution_count": 9,
     "metadata": {},
     "output_type": "execute_result"
    }
   ],
   "source": [
    "log_dir = \"logs/fit/\" + datetime.datetime.now().strftime(\"%Y%m%d-%H%M%S\")\n",
    "tensorboard_callback = tf.keras.callbacks.TensorBoard(log_dir=log_dir, histogram_freq=1, update_freq='batch')\n",
    "pgm.fit(x_train, y_train, batch_size=50, callbacks=[tensorboard_callback], epochs=10, verbose=1)\n",
    "\n"
   ]
  },
  {
   "cell_type": "code",
   "execution_count": 10,
   "metadata": {
    "pycharm": {
     "name": "#%%\n"
    }
   },
   "outputs": [
    {
     "data": {
      "text/plain": [
       "Reusing TensorBoard on port 6006 (pid 4083), started 0:22:40 ago. (Use '!kill 4083' to kill it.)"
      ]
     },
     "metadata": {},
     "output_type": "display_data"
    },
    {
     "data": {
      "text/html": [
       "\n",
       "      <iframe id=\"tensorboard-frame-750ae36103aa244a\" width=\"100%\" height=\"800\" frameborder=\"0\">\n",
       "      </iframe>\n",
       "      <script>\n",
       "        (function() {\n",
       "          const frame = document.getElementById(\"tensorboard-frame-750ae36103aa244a\");\n",
       "          const url = new URL(\"/\", window.location);\n",
       "          url.port = 6006;\n",
       "          frame.src = url;\n",
       "        })();\n",
       "      </script>\n",
       "  "
      ],
      "text/plain": [
       "<IPython.core.display.HTML object>"
      ]
     },
     "metadata": {},
     "output_type": "display_data"
    }
   ],
   "source": [
    "%tensorboard --logdir logs/fit"
   ]
  }
 ],
 "metadata": {
  "kernelspec": {
   "display_name": "Python 3",
   "language": "python",
   "name": "python3"
  },
  "language_info": {
   "codemirror_mode": {
    "name": "ipython",
    "version": 3
   },
   "file_extension": ".py",
   "mimetype": "text/x-python",
   "name": "python",
   "nbconvert_exporter": "python",
   "pygments_lexer": "ipython3",
   "version": "3.7.9"
  }
 },
 "nbformat": 4,
 "nbformat_minor": 1
}