{
 "cells": [
  {
   "cell_type": "code",
   "execution_count": 8,
   "outputs": [],
   "source": [
    "from modello import pgm_index\n",
    "import pandas as pd\n",
    "import numpy as np\n",
    "import tensorflow as tf\n",
    "import sys\n",
    "import keras"
   ],
   "metadata": {
    "collapsed": false,
    "pycharm": {
     "name": "#%%\n"
    }
   }
  },
  {
   "cell_type": "code",
   "execution_count": 9,
   "outputs": [],
   "source": [
    "with open('datipisa/segments_wiki_ts_1M_uint64.csv') as file:\n",
    "    indice = pd.read_csv(file, header=2)\n",
    "x_train = np.fromfile(\"datipisa/wiki_ts_1M_uint64\", dtype=np.uint64)\n",
    "\n",
    "x_train = x_train.reshape(len(x_train), 1)"
   ],
   "metadata": {
    "collapsed": false,
    "pycharm": {
     "name": "#%%\n"
    }
   }
  },
  {
   "cell_type": "code",
   "execution_count": 10,
   "outputs": [],
   "source": [
    "index = [0]\n",
    "for i in range(1, len(x_train)):\n",
    "    if x_train[i] == x_train[i - 1]:\n",
    "        index.append(index[i-1])\n",
    "    else:\n",
    "        index.append(i)"
   ],
   "metadata": {
    "collapsed": false,
    "pycharm": {
     "name": "#%%\n"
    }
   }
  },
  {
   "cell_type": "code",
   "execution_count": 11,
   "outputs": [],
   "source": [
    "init = indice['key'].to_numpy()\n",
    "slope = indice['slope'].to_numpy()\n",
    "intercept = indice['intercept'].to_numpy()\n",
    "end = indice['key'][1:]\n",
    "end = np.append(end, sys.maxsize)\n",
    "neuroni = len(indice)\n",
    "pgm = pgm_index(neuroni, init, end, slope, intercept, True)"
   ],
   "metadata": {
    "collapsed": false,
    "pycharm": {
     "name": "#%%\n"
    }
   }
  },
  {
   "cell_type": "code",
   "execution_count": 12,
   "outputs": [],
   "source": [
    "pgm.compile(loss='mean_absolute_error', optimizer='adam')"
   ],
   "metadata": {
    "collapsed": false,
    "pycharm": {
     "name": "#%%\n"
    }
   }
  },
  {
   "cell_type": "code",
   "execution_count": 13,
   "outputs": [],
   "source": [
    "y_train = np.array(index).reshape(len(x_train), 1)"
   ],
   "metadata": {
    "collapsed": false,
    "pycharm": {
     "name": "#%%\n"
    }
   }
  },
  {
   "cell_type": "code",
   "execution_count": 16,
   "outputs": [],
   "source": [
    "#try:\n",
    "pgm.fit(x_train, y_train)\n",
    "#except TypeError:\n",
    "    #print(\"Errore\")"
   ],
   "metadata": {
    "collapsed": false,
    "pycharm": {
     "name": "#%%\n"
    }
   }
  }
 ],
 "metadata": {
  "kernelspec": {
   "name": "conda-env-keras_env-py",
   "language": "python",
   "display_name": "Python [conda env:keras_env] *"
  },
  "language_info": {
   "codemirror_mode": {
    "name": "ipython",
    "version": 2
   },
   "file_extension": ".py",
   "mimetype": "text/x-python",
   "name": "python",
   "nbconvert_exporter": "python",
   "pygments_lexer": "ipython2",
   "version": "2.7.6"
  }
 },
 "nbformat": 4,
 "nbformat_minor": 0
}